{
 "cells": [
  {
   "cell_type": "markdown",
   "id": "fb38d9ac",
   "metadata": {},
   "source": [
    "# Setup API Route for Trade Logging\n",
    "This section demonstrates how to implement an Express.js API route to log trades and retrieve trade history from the trading engine. This enables UI and Colab integration for real-time and batch trading workflows."
   ]
  },
  {
   "cell_type": "code",
   "execution_count": null,
   "id": "8f4adf6b",
   "metadata": {},
   "outputs": [],
   "source": [
    "# Express.js API route for trade logging\n",
    "from flask import Flask, request, jsonify\n",
    "import json\n",
    "import os\n",
    "\n",
    "app = Flask(__name__)\n",
    "TRADING_LOG = 'trading-log.json'\n",
    "\n",
    "@app.route('/api/trades', methods=['GET', 'POST', 'DELETE'])\n",
    "def trades():\n",
    "    if request.method == 'GET':\n",
    "        if os.path.exists(TRADING_LOG):\n",
    "            with open(TRADING_LOG) as f:\n",
    "                trades = json.load(f)\n",
    "            return jsonify(trades)\n",
    "        return jsonify([])\n",
    "    elif request.method == 'POST':\n",
    "        trade = request.json\n",
    "        if os.path.exists(TRADING_LOG):\n",
    "            with open(TRADING_LOG) as f:\n",
    "                trades = json.load(f)\n",
    "        else:\n",
    "            trades = []\n",
    "        trades.append(trade)\n",
    "        with open(TRADING_LOG, 'w') as f:\n",
    "            json.dump(trades, f, indent=2)\n",
    "        return jsonify(trade), 201\n",
    "    elif request.method == 'DELETE':\n",
    "        with open(TRADING_LOG, 'w') as f:\n",
    "            json.dump([], f)\n",
    "        return '', 204\n",
    "\n",
    "# To run: flask run\n"
   ]
  },
  {
   "cell_type": "markdown",
   "id": "7b3bb5ac",
   "metadata": {},
   "source": [
    "# Colab Notebook Example for CSV Import/Export\n",
    "This section provides Python code for importing and exporting trading datasets in Google Colab. You can use these cells to simulate trades and save results for use in Alpha-Q AI."
   ]
  },
  {
   "cell_type": "code",
   "execution_count": null,
   "id": "88d62fdb",
   "metadata": {},
   "outputs": [],
   "source": [
    "# Import trading dataset and export simulated trades in Colab\n",
    "import pandas as pd\n",
    "\n",
    "# Load trading dataset (upload or use sample)\n",
    "from google.colab import files\n",
    "uploaded = files.upload()\n",
    "df = pd.read_csv(next(iter(uploaded)))\n",
    "\n",
    "# Calculate SMA and simulate trades\n",
    "window = 3\n",
    "df['SMA'] = df['Close'].rolling(window=window).mean()\n",
    "trades = []\n",
    "for i in range(window, len(df)):\n",
    "    if df['Close'][i] > df['SMA'][i]:\n",
    "        trades.append({'timestamp': df['Date'][i], 'type': 'BUY', 'amount': 1, 'price': df['Close'][i], 'result': 'SIMULATED', 'rationale': 'SMA cross'})\n",
    "    elif df['Close'][i] < df['SMA'][i]:\n",
    "        trades.append({'timestamp': df['Date'][i], 'type': 'SELL', 'amount': 1, 'price': df['Close'][i], 'result': 'SIMULATED', 'rationale': 'SMA cross'})\n",
    "\n",
    "# Export simulated trades to CSV\n",
    "trades_df = pd.DataFrame(trades)\n",
    "trades_df.to_csv('simulated_trades.csv', index=False)\n",
    "files.download('simulated_trades.csv')\n"
   ]
  },
  {
   "cell_type": "markdown",
   "id": "0c4069c3",
   "metadata": {},
   "source": [
    "# UI/UX Enhancements for Trade Visualization\n",
    "Visualize trade data, price trends, and SMA crossings using Plotly. This helps users and admins understand trading performance and strategy outcomes."
   ]
  },
  {
   "cell_type": "code",
   "execution_count": null,
   "id": "8e5a4b65",
   "metadata": {},
   "outputs": [],
   "source": [
    "# Visualize price, SMA, and trades\n",
    "import plotly.graph_objs as go\n",
    "\n",
    "fig = go.Figure()\n",
    "fig.add_trace(go.Scatter(x=df['Date'], y=df['Close'], mode='lines', name='Close Price'))\n",
    "fig.add_trace(go.Scatter(x=df['Date'], y=df['SMA'], mode='lines', name='SMA'))\n",
    "\n",
    "# Mark trades\n",
    "for trade in trades:\n",
    "    color = 'green' if trade['type'] == 'BUY' else 'red'\n",
    "    fig.add_trace(go.Scatter(\n",
    "        x=[trade['timestamp']],\n",
    "        y=[trade['price']],\n",
    "        mode='markers',\n",
    "        marker=dict(color=color, size=10),\n",
    "        name=trade['type']\n",
    "    ))\n",
    "\n",
    "fig.update_layout(title='Trading Simulation: Price, SMA, and Trades', xaxis_title='Date', yaxis_title='Price')\n",
    "fig.show()\n"
   ]
  }
 ],
 "metadata": {
  "language_info": {
   "name": "python"
  }
 },
 "nbformat": 4,
 "nbformat_minor": 5
}
